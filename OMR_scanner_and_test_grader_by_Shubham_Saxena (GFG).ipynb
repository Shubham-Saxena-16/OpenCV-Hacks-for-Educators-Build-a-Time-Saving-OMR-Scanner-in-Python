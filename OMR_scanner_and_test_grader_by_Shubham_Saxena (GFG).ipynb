{
 "cells": [
  {
   "cell_type": "markdown",
   "id": "ff723bac-0589-4aae-8366-fd5e7e014bfc",
   "metadata": {},
   "source": [
    "# Project : OMR scanner and test grader    "
   ]
  },
  {
   "cell_type": "code",
   "execution_count": 1,
   "id": "dd1fb522-a57e-4de2-828d-850f376a1015",
   "metadata": {},
   "outputs": [
    {
     "name": "stdout",
     "output_type": "stream",
     "text": [
      "Requirement already satisfied: opencv-python in c:\\users\\shubh\\appdata\\local\\programs\\python\\python312\\lib\\site-packages (4.9.0.80)\n",
      "Requirement already satisfied: numpy>=1.21.2 in c:\\users\\shubh\\appdata\\local\\programs\\python\\python312\\lib\\site-packages (from opencv-python) (1.26.4)\n",
      "Note: you may need to restart the kernel to use updated packages.\n"
     ]
    }
   ],
   "source": [
    "pip install opencv-python"
   ]
  },
  {
   "cell_type": "code",
   "execution_count": 2,
   "id": "aebb3fdd-4fc6-4503-8647-d86247f90f57",
   "metadata": {},
   "outputs": [
    {
     "name": "stdout",
     "output_type": "stream",
     "text": [
      "Requirement already satisfied: numpy in c:\\users\\shubh\\appdata\\local\\programs\\python\\python312\\lib\\site-packages (1.26.4)\n",
      "Note: you may need to restart the kernel to use updated packages.\n"
     ]
    }
   ],
   "source": [
    "pip install numpy"
   ]
  },
  {
   "cell_type": "code",
   "execution_count": 3,
   "id": "7fc74c88-7770-4765-9102-7dd973f4495b",
   "metadata": {},
   "outputs": [
    {
     "name": "stdout",
     "output_type": "stream",
     "text": [
      "Requirement already satisfied: imutils in c:\\users\\shubh\\appdata\\local\\programs\\python\\python312\\lib\\site-packages (0.5.4)\n",
      "Note: you may need to restart the kernel to use updated packages.\n"
     ]
    }
   ],
   "source": [
    " pip install imutils"
   ]
  },
  {
   "cell_type": "code",
   "execution_count": 4,
   "id": "58f926e1-5f16-45bb-b491-b531ad304e6d",
   "metadata": {},
   "outputs": [],
   "source": [
    "#importing all the necessary liabrary \n",
    "import numpy as np   # For numerical operations.\n",
    "import cv2           #OpenCV library for image processing\n",
    "import imutils       #Utility functions for image processing\n",
    "from imutils import contours #For contour sorting"
   ]
  },
  {
   "cell_type": "code",
   "execution_count": 5,
   "id": "adf81e98-2c7c-4728-8128-e79e4d439776",
   "metadata": {},
   "outputs": [],
   "source": [
    "# order_points(pts): Orders points in a consistent manner (top-left, top-right, bottom-right, bottom-left).\n",
    "def order_points(pts):\n",
    "    \"\"\"\n",
    "    Order points in the order: top-left, top-right, bottom-right, bottom-left.\n",
    "    Args:\n",
    "    pts: Array of four points (x, y) from the image.\n",
    "\n",
    "    Returns:\n",
    "    rect: Array of points ordered as top-left, top-right, bottom-right, bottom-left.\n",
    "    \"\"\"\n",
    "    rect = np.zeros((4, 2), dtype=\"float32\")\n",
    "    s = pts.sum(axis=1)\n",
    "    rect[0] = pts[np.argmin(s)]  # top-left\n",
    "    rect[2] = pts[np.argmax(s)]  # bottom-right\n",
    "    diff = np.diff(pts, axis=1)\n",
    "    rect[1] = pts[np.argmin(diff)]  # top-right\n",
    "    rect[3] = pts[np.argmax(diff)]  # bottom-left\n",
    "    return rect\n"
   ]
  },
  {
   "cell_type": "code",
   "execution_count": 8,
   "id": "dca179cb-2470-4c7a-9ff3-4f9d23389090",
   "metadata": {},
   "outputs": [],
   "source": [
    "# four_point_transform(image, pts): Applies a perspective transform to get a top-down view of the image.\n",
    "def four_point_transform(image, pts):\n",
    "    \"\"\"\n",
    "    Apply a perspective transform to obtain a top-down view of the image.\n",
    "    Args:\n",
    "    image: Input image.\n",
    "    pts: Array of four points (x, y) representing the corners of the object.\n",
    "\n",
    "    Returns:\n",
    "    warped: The warped (transformed) image.\n",
    "    \"\"\"\n",
    "    rect = order_points(pts)\n",
    "    (tl, tr, br, bl) = rect\n",
    "# Calculate the width of the new image\n",
    "    widthA = np.sqrt(((br[0] - bl[0]) ** 2) + ((br[1] - bl[1]) ** 2))\n",
    "    widthB = np.sqrt(((tr[0] - tl[0]) ** 2) + ((tr[1] - tl[1]) ** 2))\n",
    "    maxWidth = max(int(widthA), int(widthB))\n",
    "\n",
    "# Calculate the height of the new image\n",
    "    heightA = np.sqrt(((tr[0] - br[0]) ** 2) + ((tr[1] - br[1]) ** 2))\n",
    "    heightB = np.sqrt(((tl[0] - bl[0]) ** 2) + ((tl[1] - bl[1]) ** 2))\n",
    "    maxHeight = max(int(heightA), int(heightB))\n",
    "\n",
    "# Set of destination points for \"bird's eye view\"\n",
    "    dst = np.array([\n",
    "        [0, 0],\n",
    "        [maxWidth - 1, 0],\n",
    "        [maxWidth - 1, maxHeight - 1],\n",
    "        [0, maxHeight - 1]], dtype=\"float32\")\n",
    "\n",
    "# Compute the perspective transform matrix and apply it\n",
    "    M = cv2.getPerspectiveTransform(rect, dst)\n",
    "    warped = cv2.warpPerspective(image, M, (maxWidth, maxHeight))\n",
    "\n",
    "    return warped"
   ]
  },
  {
   "cell_type": "code",
   "execution_count": 9,
   "id": "65b4880b-477d-4393-9a69-02c970157ef6",
   "metadata": {},
   "outputs": [],
   "source": [
    "# Load and preprocess the image\n",
    "image_path = r\"C:\\Users\\Shubh\\Downloads\\omr.png\"\n",
    "image = cv2.imread(image_path)\n",
    "\n",
    "if image is None:\n",
    "    raise FileNotFoundError(f\"The image file {image_path} could not be loaded. Please check the file path.\")\n",
    "\n",
    "# Convert the image to grayscale\n",
    "gray = cv2.cvtColor(image, cv2.COLOR_BGR2GRAY)\n",
    "\n",
    "# Apply Gaussian blur to the grayscale image\n",
    "blurred = cv2.GaussianBlur(gray, (5, 5), 0)\n",
    "\n",
    "# Perform edge detection\n",
    "edged = cv2.Canny(blurred, 75, 200)\n",
    "\n",
    "# Find contours in the edge map\n",
    "cnts = cv2.findContours(edged, cv2.RETR_EXTERNAL, cv2.CHAIN_APPROX_SIMPLE)\n",
    "cnts = imutils.grab_contours(cnts)\n",
    "docCnt = None\n",
    "\n",
    "# Ensure at least one contour was found\n",
    "if len(cnts) > 0:\n",
    "    cnts = sorted(cnts, key=cv2.contourArea, reverse=True)\n",
    "\n",
    "    # Loop over the sorted contours\n",
    "    for c in cnts:\n",
    "        peri = cv2.arcLength(c, True)\n",
    "        approx = cv2.approxPolyDP(c, 0.02 * peri, True)\n",
    "\n",
    "        # If the contour has four points, assume it is the document\n",
    "        if len(approx) == 4:\n",
    "            docCnt = approx\n",
    "            break\n",
    "\n",
    "if docCnt is None:\n",
    "    raise ValueError(\"No document contour found in the image.\")\n",
    "\n",
    "# Apply the four-point transform to obtain a top-down view of the paper\n",
    "paper = four_point_transform(image, docCnt.reshape(4, 2))\n",
    "warped = four_point_transform(gray, docCnt.reshape(4, 2))\n",
    "\n",
    "# Apply thresholding to the warped grayscale image\n",
    "thresh = cv2.threshold(warped, 0, 255, cv2.THRESH_BINARY_INV | cv2.THRESH_OTSU)[1]\n",
    "\n",
    "# Find contours in the thresholded image\n",
    "cnts = cv2.findContours(thresh, cv2.RETR_EXTERNAL, cv2.CHAIN_APPROX_SIMPLE)\n",
    "cnts = imutils.grab_contours(cnts)\n",
    "questionCnts = []\n",
    "\n",
    "# Loop over the contours\n",
    "for c in cnts:\n",
    "    (x, y, w, h) = cv2.boundingRect(c)\n",
    "    ar = w / float(h)\n",
    "\n",
    "    # Filter out contours that are not circular\n",
    "    if w >= 20 and h >= 20 and ar >= 0.9 and ar <= 1.1:\n",
    "        questionCnts.append(c)"
   ]
  },
  {
   "cell_type": "code",
   "execution_count": 10,
   "id": "10838baa-74ca-483b-91bf-ef68366477bb",
   "metadata": {},
   "outputs": [
    {
     "name": "stdout",
     "output_type": "stream",
     "text": [
      "Correct Answers: 4\n"
     ]
    }
   ],
   "source": [
    "# Sort the question contours top-to-bottom\n",
    "questionCnts = contours.sort_contours(questionCnts, method=\"top-to-bottom\")[0]\n",
    "correct = 0\n",
    "Answer_key = {0: 1, 1: 4, 2: 0, 3: 2, 4: 0}\n",
    "\n",
    "# Loop over each question in batches of 5\n",
    "for (q, i) in enumerate(np.arange(0, len(questionCnts), 5)):\n",
    "    cnts = contours.sort_contours(questionCnts[i:i + 5])[0]\n",
    "    bubbled = None\n",
    "\n",
    "    # Loop over the sorted contours\n",
    "    for (j, c) in enumerate(cnts):\n",
    "        # Create a mask that reveals only the current bubble for counting\n",
    "        mask = np.zeros(thresh.shape, dtype=\"uint8\")\n",
    "        cv2.drawContours(mask, [c], -1, 255, -1)\n",
    "        mask = cv2.bitwise_and(thresh, thresh, mask=mask)\n",
    "        total = cv2.countNonZero(mask)\n",
    "\n",
    "        if bubbled is None or total > bubbled[0]:\n",
    "            bubbled = (total, j)\n",
    "\n",
    "    color = (0, 0, 255)\n",
    "    k = Answer_key[q]\n",
    "\n",
    "    # Check if the bubbled answer is correct\n",
    "    if k == bubbled[1]:\n",
    "        correct += 1\n",
    "\n",
    "print(f\"Correct Answers: {correct}\")"
   ]
  },
  {
   "cell_type": "code",
   "execution_count": null,
   "id": "4d650e32-fdbe-4774-9c54-4799a7300523",
   "metadata": {},
   "outputs": [],
   "source": [
    "dst1 = np.array([[0, 0],[maxWidth - 1, 0],[maxWidth - 1, maxHeight - 1],[0, maxHeight - 1]], dtype=\"float32\")"
   ]
  },
  {
   "cell_type": "code",
   "execution_count": null,
   "id": "cb429a17-bff0-4bc3-8ab7-91ee629a6c59",
   "metadata": {},
   "outputs": [],
   "source": []
  }
 ],
 "metadata": {
  "kernelspec": {
   "display_name": "Python 3 (ipykernel)",
   "language": "python",
   "name": "python3"
  },
  "language_info": {
   "codemirror_mode": {
    "name": "ipython",
    "version": 3
   },
   "file_extension": ".py",
   "mimetype": "text/x-python",
   "name": "python",
   "nbconvert_exporter": "python",
   "pygments_lexer": "ipython3",
   "version": "3.12.1"
  }
 },
 "nbformat": 4,
 "nbformat_minor": 5
}
